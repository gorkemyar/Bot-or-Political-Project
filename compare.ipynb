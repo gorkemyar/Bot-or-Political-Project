{
 "cells": [
  {
   "cell_type": "code",
   "execution_count": 6,
   "metadata": {},
   "outputs": [
    {
     "name": "stdout",
     "output_type": "stream",
     "text": [
      "                     round  student_id  user_predictions  tweet_predictions  \\\n",
      "nedenburdaysam           2       27970          0.101124                NaN   \n",
      "biologselim              2       27970          0.253247                NaN   \n",
      "bilgin21604923           2       27970          0.112303                NaN   \n",
      "denizlihabercom          2       27970          0.155660                NaN   \n",
      "burakerbaychp            2       27970          0.093264                NaN   \n",
      "...                    ...         ...               ...                ...   \n",
      "1597287763325636611      2       27970               NaN           0.692909   \n",
      "data                     2       27970               NaN                NaN   \n",
      "feature                  2       27970               NaN                NaN   \n",
      "model                    2       27970               NaN                NaN   \n",
      "other                    2       27970               NaN                NaN   \n",
      "\n",
      "                                                          explanations  \n",
      "nedenburdaysam                                                     NaN  \n",
      "biologselim                                                        NaN  \n",
      "bilgin21604923                                                     NaN  \n",
      "denizlihabercom                                                    NaN  \n",
      "burakerbaychp                                                      NaN  \n",
      "...                                                                ...  \n",
      "1597287763325636611                                                NaN  \n",
      "data                 \\nAs a group, we combined our data with the da...  \n",
      "feature              \\nWe used the following features for the train...  \n",
      "model                \\nWe used XGBoost classifier for both of our m...  \n",
      "other                \\nAlso, we used oversampling to adjust the cla...  \n",
      "\n",
      "[10003 rows x 5 columns]\n",
      "nedenburdaysam         0.030908\n",
      "biologselim            0.322821\n",
      "bilgin21604923         0.126827\n",
      "denizlihabercom        0.302823\n",
      "burakerbaychp          0.038438\n",
      "                         ...   \n",
      "1597287763325636611         NaN\n",
      "data                        NaN\n",
      "feature                     NaN\n",
      "model                       NaN\n",
      "other                       NaN\n",
      "Name: user_predictions, Length: 10003, dtype: float64\n"
     ]
    },
    {
     "ename": "AttributeError",
     "evalue": "'function' object has no attribute 'sum'",
     "output_type": "error",
     "traceback": [
      "\u001b[1;31m---------------------------------------------------------------------------\u001b[0m",
      "\u001b[1;31mAttributeError\u001b[0m                            Traceback (most recent call last)",
      "Cell \u001b[1;32mIn[6], line 25\u001b[0m\n\u001b[0;32m     22\u001b[0m \u001b[39mfrom\u001b[39;00m \u001b[39msklearn\u001b[39;00m\u001b[39m.\u001b[39;00m\u001b[39mmetrics\u001b[39;00m \u001b[39mimport\u001b[39;00m mean_squared_error\n\u001b[0;32m     23\u001b[0m \u001b[39mfrom\u001b[39;00m \u001b[39mmath\u001b[39;00m \u001b[39mimport\u001b[39;00m sqrt\n\u001b[1;32m---> 25\u001b[0m \u001b[39mprint\u001b[39m(df_user1\u001b[39m.\u001b[39;49misna\u001b[39m.\u001b[39;49msum())\n\u001b[0;32m     28\u001b[0m \u001b[39m# #user\u001b[39;00m\n\u001b[0;32m     29\u001b[0m \u001b[39m#rmse_user = sqrt(mean_squared_error(df_user1, df_user2))\u001b[39;00m\n\u001b[0;32m     30\u001b[0m \u001b[39m#print(rmse_user)\u001b[39;00m\n\u001b[1;32m   (...)\u001b[0m\n\u001b[0;32m     33\u001b[0m \u001b[39m# rmse_tweet = sqrt(mean_squared_error(df_tweet1, df_tweet2))\u001b[39;00m\n\u001b[0;32m     34\u001b[0m \u001b[39m# print(rmse_tweet)\u001b[39;00m\n",
      "\u001b[1;31mAttributeError\u001b[0m: 'function' object has no attribute 'sum'"
     ]
    }
   ],
   "source": [
    "### read from eval.csv\n",
    "\n",
    "import pandas as pd\n",
    "import numpy as np\n",
    "import matplotlib.pyplot as plt\n",
    "import seaborn as sns\n",
    "import os\n",
    "import sys\n",
    "\n",
    "# read from eval.csv\n",
    "\n",
    "df_user1 = pd.read_json('predictions-27970_round2.json')\n",
    "df_user1 = pd.DataFrame(df_user1)\n",
    "print(df_user1)\n",
    "#df_tweet1 = pd.read_json('predictions-27970_round2.json')['tweet_predictions']\n",
    "\n",
    "df_user2 = pd.read_json('predictions-27869_round2.json')['user_predictions']\n",
    "print(df_user2)\n",
    "df_tweet2 = pd.read_json('predictions-27869_round2.json')['tweet_predictions']\n",
    "\n",
    "#mse \n",
    "from sklearn.metrics import mean_squared_error\n",
    "from math import sqrt\n",
    "\n",
    "print(df_user1.isna.sum())\n",
    "\n",
    "\n",
    "# #user\n",
    "#rmse_user = sqrt(mean_squared_error(df_user1, df_user2))\n",
    "#print(rmse_user)\n",
    "\n",
    "# #tweet\n",
    "# rmse_tweet = sqrt(mean_squared_error(df_tweet1, df_tweet2))\n",
    "# print(rmse_tweet)\n",
    "\n",
    "\n",
    "\n",
    "\n"
   ]
  },
  {
   "cell_type": "code",
   "execution_count": 12,
   "metadata": {},
   "outputs": [
    {
     "name": "stdout",
     "output_type": "stream",
     "text": [
      "              user_predictions\n",
      "000ktay               0.253247\n",
      "001_esref             0.225519\n",
      "001_kgm               0.696335\n",
      "00_546                0.306818\n",
      "00h59min              0.103253\n",
      "...                        ...\n",
      "zweig7nokta6          0.102832\n",
      "zyn1453               0.101124\n",
      "zynp3481              0.640000\n",
      "zzehrattopal          0.101124\n",
      "zzubeyde7             0.102907\n",
      "\n",
      "[4999 rows x 1 columns]\n",
      "              user_predictions\n",
      "000ktay               0.521247\n",
      "001_esref             0.457227\n",
      "001_kgm               0.721711\n",
      "00_546                0.447314\n",
      "00h59min              0.143971\n",
      "...                        ...\n",
      "zweig7nokta6          0.119518\n",
      "zyn1453               0.096735\n",
      "zynp3481              0.542251\n",
      "zzehrattopal          0.134792\n",
      "zzubeyde7             0.113156\n",
      "\n",
      "[4999 rows x 1 columns]\n",
      "0.14988431299199648\n"
     ]
    }
   ],
   "source": [
    "df_user1 = pd.read_json('users_70.json')\n",
    "df_user1 = pd.DataFrame(df_user1)\n",
    "print(df_user1)\n",
    "#df_tweet1 = pd.read_json('predictions-27970_round2.json')['tweet_predictions']\n",
    "\n",
    "df_user2 = pd.read_json('users_2.json')\n",
    "df_user2 = pd.DataFrame(df_user2)\n",
    "print(df_user2)\n",
    "#df_tweet1 = pd.read_json('predictions-27970_round2.json')['tweet_predictions']\n",
    "\n",
    "\n",
    "# #user\n",
    "rmse_user = sqrt(mean_squared_error(df_user1, df_user2))\n",
    "print(rmse_user)\n",
    "\n",
    "# #tweet\n",
    "# rmse_tweet = sqrt(mean_squared_error(df_tweet1, df_tweet2))\n",
    "# print(rmse_tweet)"
   ]
  }
 ],
 "metadata": {
  "kernelspec": {
   "display_name": "proje",
   "language": "python",
   "name": "proje"
  },
  "language_info": {
   "codemirror_mode": {
    "name": "ipython",
    "version": 3
   },
   "file_extension": ".py",
   "mimetype": "text/x-python",
   "name": "python",
   "nbconvert_exporter": "python",
   "pygments_lexer": "ipython3",
   "version": "3.10.4"
  },
  "orig_nbformat": 4,
  "vscode": {
   "interpreter": {
    "hash": "6b9876109898b0385984b40f1ed25e9a5216efe1d86a4e7004e455f0efa6eedd"
   }
  }
 },
 "nbformat": 4,
 "nbformat_minor": 2
}
